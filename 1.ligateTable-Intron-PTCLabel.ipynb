{
 "cells": [
  {
   "cell_type": "code",
   "execution_count": 1,
   "id": "7710bc03-3202-459d-81fc-be171babf209",
   "metadata": {
    "tags": []
   },
   "outputs": [],
   "source": [
    "from Bio import Entrez, SeqIO\n",
    "import math\n",
    "import pandas as pd\n",
    "import time\n",
    "import pysam\n",
    "import json\n",
    "import subprocess\n",
    "\n",
    "\n",
    "\n",
    "genome = pysam.Fastafile('Mus_musculus.GRCm38.dna.primary_assembly.fa')\n",
    "\n",
    "def subtract_substrings(string, substrings):\n",
    "    for substring in substrings:\n",
    "        string = string.replace(substring, \"\")\n",
    "    return string\n",
    "\n",
    "\n",
    "def getSeqfromChromosomeCoordinate(chrN, start, end,strand):\n",
    "    seq = genome.fetch(chrN, start, end)\n",
    "    if strand == '-':\n",
    "        seq = seq[::-1]\n",
    "\n",
    "    return seq\n",
    "\n",
    "\n",
    "exonsinTrID = {}\n",
    "tc = {}\n",
    "strandInfoTrID={}\n",
    "with open('Mus_musculus.GRCm39.109.gtf', 'r') as file:\n",
    "#find exons and stop codons\n",
    "    for line in file:\n",
    "        if line.startswith('#'):\n",
    "            continue\n",
    "\n",
    "        fields = line.strip().split('\\t')\n",
    "        feature_type = fields[2]\n",
    "        transcript_id = None\n",
    "        chromosome = fields[0]\n",
    "        start = int(fields[3])\n",
    "        end = int(fields[4])\n",
    "        strand = fields[6]\n",
    "        attributes = fields[8].split(';')\n",
    "\n",
    "        if feature_type == 'exon':\n",
    "            for attr in attributes:\n",
    "                if attr.strip().startswith('transcript_id'):\n",
    "                    transcript_id = attr.split('\"')[1].split('.')[0]\n",
    "                    break\n",
    "\n",
    "            if transcript_id is None:\n",
    "                continue\n",
    "            if not transcript_id in exonsinTrID:\n",
    "                exonsinTrID[transcript_id] = {}\n",
    "            exonsinTrID[transcript_id][start]=getSeqfromChromosomeCoordinate(chromosome, start, end, strand)\n",
    "            strandInfoTrID[transcript_id] = strand\n",
    "            \n",
    "            \n",
    "        if feature_type == 'stop_codon':\n",
    "            for attr in attributes:\n",
    "                if attr.strip().startswith('transcript_id'):\n",
    "                    transcript_id = attr.split('\"')[1].split('.')[0]\n",
    "                    break\n",
    "\n",
    "            if transcript_id is None:\n",
    "                continue\n",
    "            if not transcript_id in tc:\n",
    "                tc[transcript_id] = []\n",
    "            tc[transcript_id].append(start)\n",
    "\n",
    "for tr in strandInfoTrID:\n",
    "    exonStart = sorted(exonsinTrID[tr].keys())[0]\n",
    "\n",
    "    exonsinTrID[tr] = [value for key, value in sorted(exonsinTrID[tr].items())]\n",
    "    exonsinTrID[tr]='|i|'.join(exonsinTrID[tr])\n",
    "    \n",
    "    if tr in tc:\n",
    "        for singleTC in tc[tr]:\n",
    "            dist = singleTC - exonStart\n",
    "\n",
    "            #given_string = \"abcdefghi\"\n",
    "            #pos = 1\n",
    "            exonsinTrID[tr] = exonsinTrID[tr][:dist] + \"|t|\" + exonsinTrID[tr][dist+3:]\n",
    "\n",
    "    # Join the values into a single string\n",
    "    if strandInfoTrID[tr]=='-':\n",
    "        exonsinTrID[tr] = exonsinTrID[tr][::-1]\n",
    "        continue\n",
    "    elif strandInfoTrID[tr]=='+':\n",
    "        continue\n",
    "    print('neither - or +??'+str(tr))\n",
    "    \n",
    "    "
   ]
  },
  {
   "cell_type": "code",
   "execution_count": 2,
   "id": "fd846058-90ae-434d-a349-1fa72a65bf32",
   "metadata": {
    "tags": []
   },
   "outputs": [
    {
     "name": "stdout",
     "output_type": "stream",
     "text": [
      "done reading\n"
     ]
    },
    {
     "name": "stderr",
     "output_type": "stream",
     "text": [
      "Processing ctl: 119414/119414 (100.00%): 100%|████████████████████████████████████████████████████████████████████████████████████████████████████████████████████████████████████████████████████████████████████████████████████████████████████████████████| 119414/119414 [28:58<00:00, 68.71it/s]\n"
     ]
    },
    {
     "name": "stdout",
     "output_type": "stream",
     "text": [
      "done parsing1\n"
     ]
    },
    {
     "name": "stderr",
     "output_type": "stream",
     "text": [
      "Processing ko: 119414/119414 (100.00%): 100%|█████████████████████████████████████████████████████████████████████████████████████████████████████████████████████████████████████████████████████████████████████████████████████████████████████████████████| 119414/119414 [28:22<00:00, 70.15it/s]"
     ]
    },
    {
     "name": "stdout",
     "output_type": "stream",
     "text": [
      "done parsing2\n"
     ]
    },
    {
     "name": "stderr",
     "output_type": "stream",
     "text": [
      "\n"
     ]
    }
   ],
   "source": [
    "import pandas as pd\n",
    "from tqdm import tqdm\n",
    "\n",
    "def getSeq(id):\n",
    "    id = id.split('.')[0]\n",
    "    if id in exonsinTrID:\n",
    "        seq = exonsinTrID[id]\n",
    "        return seq\n",
    "    return False\n",
    "\n",
    "emxi_8 = pd.read_csv(\"GSE220462_Upf2KO_mm/kallisto/Emxi_8/abundance.tsv\", sep=\"\\t\")  # ctl\n",
    "emxi_9 = pd.read_csv(\"GSE220462_Upf2KO_mm/kallisto/Emxi_9/abundance.tsv\", sep=\"\\t\")  # ctl\n",
    "emxi_4 = pd.read_csv(\"GSE220462_Upf2KO_mm/kallisto/Emxi_4/abundance.tsv\", sep=\"\\t\")  # k0\n",
    "emxi_5 = pd.read_csv(\"GSE220462_Upf2KO_mm/kallisto/Emxi_5/abundance.tsv\", sep=\"\\t\")  # ko\n",
    "\n",
    "seqCountko = {}\n",
    "seqCountctl = {}\n",
    "print('done reading')\n",
    "\n",
    "filterD = pd.read_csv(\"intersect.bed\", sep=\"\\t\", header=None)\n",
    "fD = filterD[3].tolist()\n",
    "\n",
    "# Progress bar for ctl processing\n",
    "count = 0\n",
    "with tqdm(total=len(emxi_8[\"target_id\"]), desc=\"Processing ctl\") as pbar_ctl:\n",
    "    for target_id in emxi_8[\"target_id\"]:\n",
    "        valInEmxi9 = emxi_9[emxi_9[\"target_id\"] == target_id][\"tpm\"].tolist()[0]\n",
    "        valInEmxi8 = emxi_8[emxi_8[\"target_id\"] == target_id][\"tpm\"].tolist()[0]\n",
    "        avg = (valInEmxi8 + valInEmxi9) / 2\n",
    "        seqCountctl[target_id.split('.')[0]] = avg\n",
    "        count += 1\n",
    "        pbar_ctl.update(1)\n",
    "        pbar_ctl.set_description(f\"Processing ctl: {count}/{len(emxi_8['target_id'])} ({100 * count / len(emxi_8['target_id']):.2f}%)\")\n",
    "\n",
    "print('done parsing1')\n",
    "\n",
    "# Progress bar for ko processing\n",
    "count = 0\n",
    "with tqdm(total=len(emxi_5[\"target_id\"]), desc=\"Processing ko\") as pbar_ko:\n",
    "    for target_id in emxi_4[\"target_id\"]:\n",
    "        valInEmxi4 = emxi_4[emxi_4[\"target_id\"] == target_id][\"tpm\"].tolist()[0]\n",
    "        valInEmxi5 = emxi_5[emxi_5[\"target_id\"] == target_id][\"tpm\"].tolist()[0]\n",
    "        avg = (valInEmxi4 + valInEmxi5) / 2\n",
    "        seqCountko[target_id.split('.')[0]] = avg\n",
    "        count += 1\n",
    "        pbar_ko.update(1)\n",
    "        pbar_ko.set_description(f\"Processing ko: {count}/{len(emxi_5['target_id'])} ({100 * count / len(emxi_5['target_id']):.2f}%)\")\n",
    "\n",
    "print('done parsing2')"
   ]
  },
  {
   "cell_type": "code",
   "execution_count": 3,
   "id": "62575682-7308-419b-bca0-bf15deec8e28",
   "metadata": {
    "tags": []
   },
   "outputs": [
    {
     "name": "stderr",
     "output_type": "stream",
     "text": [
      "Processing 9585/119414 (8.03%): 100%|███████████████████████████████████████████████████████████████████████████████████████████████████████████████████████████████████████████████████████████████████████████████████████████████████████████████████████| 119414/119414 [01:37<00:00, 1222.89it/s]\n"
     ]
    }
   ],
   "source": [
    "\n",
    "\n",
    "import os\n",
    "from tqdm import tqdm\n",
    "\n",
    "res = {}\n",
    "seqLen = len(seqCountctl)\n",
    "count = 0\n",
    "\n",
    "with tqdm(total=seqLen, desc=\"Processing\") as pbar:\n",
    "    for seq in seqCountko:\n",
    "        numInKO = seqCountko[seq]\n",
    "        numInCtl = 0\n",
    "\n",
    "        if seq in seqCountctl:\n",
    "            numInCtl = seqCountctl[seq] \n",
    "\n",
    "        if numInKO == 0  or ((seqCountctl[seq] <= 5 and seqCountko[seq] <= 5)):\n",
    "            pbar.update(1)\n",
    "            continue\n",
    "\n",
    "        ret = getSeq(seq)\n",
    "        if not ret:\n",
    "            pbar.update(1)\n",
    "            continue\n",
    "\n",
    "        if numInCtl / numInKO > 1 and seq not in fD:\n",
    "            nmd = '|false|'\n",
    "        elif numInCtl / numInKO < 1 and seq in fD:\n",
    "            nmd = '|true|'\n",
    "        else:\n",
    "            pbar.update(1)\n",
    "            continue\n",
    "\n",
    "        os.system(\"echo '\" + ret + \" |=| \" + str(nmd) + \"' >> rawDataSetIntronTCHighQualFineTune.txt &\")\n",
    "        count += 1\n",
    "        pbar.set_description(f\"Processing {count}/{seqLen} ({100 * count / seqLen:.2f}%)\")\n",
    "        pbar.update(1)\n",
    "        \n",
    "for i in exonsinTrID:\n",
    "    os.system(\"echo '\" + exonsinTrID[i]+\"' >> rawDataSetIntronTCHighQualPretrain.txt &\")"
   ]
  },
  {
   "cell_type": "code",
   "execution_count": 4,
   "id": "bf2076ff-b8d3-4279-a048-981e37819db6",
   "metadata": {
    "tags": []
   },
   "outputs": [],
   "source": [
    "!cat rawDataSetIntronTCHighQualFineTune.txt >> rawDataSetIntronTCHighQualPretrain.txt"
   ]
  },
  {
   "cell_type": "code",
   "execution_count": null,
   "id": "91c4daa2-3ebe-4351-80b2-7ccf604d3b1e",
   "metadata": {
    "tags": []
   },
   "outputs": [],
   "source": []
  },
  {
   "cell_type": "code",
   "execution_count": null,
   "id": "f6acfb28-b506-4d21-b647-cc3113465cdc",
   "metadata": {
    "tags": []
   },
   "outputs": [],
   "source": []
  },
  {
   "cell_type": "code",
   "execution_count": null,
   "id": "ac55ab3f-26ec-47f2-9419-021e8f987581",
   "metadata": {
    "tags": []
   },
   "outputs": [],
   "source": []
  },
  {
   "cell_type": "code",
   "execution_count": 5,
   "id": "abd61a3d-a7bd-4f94-bb90-49542ffe1ae8",
   "metadata": {
    "tags": []
   },
   "outputs": [
    {
     "data": {
      "text/plain": [
       "'>i<'"
      ]
     },
     "execution_count": 5,
     "metadata": {},
     "output_type": "execute_result"
    }
   ],
   "source": [
    "'<i>'[::-1]"
   ]
  },
  {
   "cell_type": "code",
   "execution_count": null,
   "id": "9ea75754-91bb-4f22-98b3-4f1c064743c1",
   "metadata": {
    "tags": []
   },
   "outputs": [],
   "source": []
  },
  {
   "cell_type": "code",
   "execution_count": null,
   "id": "4816c797-0ebd-49be-b10c-22123baf6f42",
   "metadata": {},
   "outputs": [],
   "source": []
  },
  {
   "cell_type": "code",
   "execution_count": null,
   "id": "69ce1df4-66b2-4db4-8979-9e34ff4d9ed2",
   "metadata": {},
   "outputs": [],
   "source": []
  },
  {
   "cell_type": "code",
   "execution_count": null,
   "id": "cba4db54-c7da-4a8d-933b-040aeaeb56aa",
   "metadata": {},
   "outputs": [],
   "source": []
  },
  {
   "cell_type": "code",
   "execution_count": null,
   "id": "dd14c26c-1692-4bb7-9288-c26eaa783064",
   "metadata": {},
   "outputs": [],
   "source": []
  },
  {
   "cell_type": "code",
   "execution_count": null,
   "id": "2cbf6787-7e39-4dee-afbb-d21a3780a570",
   "metadata": {},
   "outputs": [],
   "source": []
  },
  {
   "cell_type": "code",
   "execution_count": null,
   "id": "55b82035-eb9a-410a-aa24-f7a15e12c9ab",
   "metadata": {
    "tags": []
   },
   "outputs": [],
   "source": []
  },
  {
   "cell_type": "code",
   "execution_count": null,
   "id": "a6a13829-c844-4b88-aaa3-3c8935479512",
   "metadata": {},
   "outputs": [],
   "source": []
  },
  {
   "cell_type": "code",
   "execution_count": null,
   "id": "357fe953-a620-44e5-bfe0-81de5912bf53",
   "metadata": {
    "tags": []
   },
   "outputs": [],
   "source": []
  },
  {
   "cell_type": "code",
   "execution_count": null,
   "id": "ae997e1e-aaeb-41ab-9e2b-a1e8476a169a",
   "metadata": {
    "tags": []
   },
   "outputs": [],
   "source": []
  },
  {
   "cell_type": "code",
   "execution_count": null,
   "id": "59eaa03c-e120-42e3-ba5d-76666323dea4",
   "metadata": {},
   "outputs": [],
   "source": []
  },
  {
   "cell_type": "code",
   "execution_count": null,
   "id": "c311daa1-f792-4122-b230-d65df20bed80",
   "metadata": {},
   "outputs": [],
   "source": []
  },
  {
   "cell_type": "code",
   "execution_count": null,
   "id": "55437745-281f-436d-8cf9-f2d9e371c603",
   "metadata": {
    "tags": []
   },
   "outputs": [],
   "source": []
  },
  {
   "cell_type": "code",
   "execution_count": null,
   "id": "dac85baa-789c-4094-a56e-85f9f7bcf7c0",
   "metadata": {},
   "outputs": [],
   "source": []
  }
 ],
 "metadata": {
  "kernelspec": {
   "display_name": "Python 3 (ipykernel)",
   "language": "python",
   "name": "python3"
  },
  "language_info": {
   "codemirror_mode": {
    "name": "ipython",
    "version": 3
   },
   "file_extension": ".py",
   "mimetype": "text/x-python",
   "name": "python",
   "nbconvert_exporter": "python",
   "pygments_lexer": "ipython3",
   "version": "3.10.6"
  }
 },
 "nbformat": 4,
 "nbformat_minor": 5
}
